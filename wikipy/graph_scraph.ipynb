{
 "cells": [
  {
   "cell_type": "code",
   "execution_count": 2,
   "metadata": {},
   "outputs": [],
   "source": [
    "import pandas as pd\n",
    "from bs4 import BeautifulSoup\n",
    "import requests\n",
    "import re\n",
    "import os"
   ]
  },
  {
   "cell_type": "code",
   "execution_count": 3,
   "metadata": {},
   "outputs": [],
   "source": [
    "class Page:\n",
    "    \"\"\"\n",
    "    A wikipedia page\n",
    "    \"\"\"\n",
    "    def __init__(self, title):\n",
    "        self.title = title\n",
    "        self.text = None # query to get text\n",
    "        self.links = [None] # manipulate text to get links\n",
    "        self.backlinks = None # access the 'links to this page' in the tools on the sidebar\n",
    "\n",
    "    def __repr__(self):\n",
    "        return self.title\n",
    "\n",
    "    def __str__(self):\n",
    "        return self.title\n",
    "\n",
    "    def __eq__(self, other):\n",
    "        return self.title == other.title\n",
    "\n",
    "    def __hash__(self):\n",
    "        return hash(self.title)\n",
    "    "
   ]
  },
  {
   "cell_type": "code",
   "execution_count": 4,
   "metadata": {},
   "outputs": [],
   "source": [
    "class PageWalker:\n",
    "    \"\"\"\n",
    "    A page walker, not really implemented but will look a lot like this\n",
    "    \"\"\"\n",
    "    def __init__(self, start_page, depth):\n",
    "        self.start_page = start_page\n",
    "        self.pages = [start_page]\n",
    "        \n",
    "\n",
    "    def __iter__(self):\n",
    "        return self\n",
    "\n",
    "    def __next__(self):\n",
    "        if len(self.pages) == 0:\n",
    "            raise StopIteration\n",
    "        page = self.pages.pop()\n",
    "        for link in page.links:\n",
    "            if link not in self.visited:\n",
    "                self.visited.add(link)\n",
    "                self.pages.append(link)\n",
    "        return page"
   ]
  },
  {
   "cell_type": "code",
   "execution_count": 28,
   "metadata": {},
   "outputs": [],
   "source": [
    "def get_linked_pages(url):\n",
    "    reqs = requests.get(url)\n",
    "    soup = BeautifulSoup(reqs.text, 'html.parser')\n",
    "\n",
    "    reg = re.compile('\\/wiki\\/.*')\n",
    "    \n",
    "    titles = []\n",
    "    for link in soup.find_all('a', href=True, title=True):\n",
    "        if reg.match(link[\"href\"]):\n",
    "            titles.append(link[\"title\"].replace(' ','_'))\n",
    "    \n",
    "    titles = refine(titles)\n",
    "    return titles\n",
    "    \n",
    "    "
   ]
  },
  {
   "cell_type": "code",
   "execution_count": 27,
   "metadata": {},
   "outputs": [],
   "source": [
    "def refine(titles):\n",
    "    i = 0\n",
    "    reg = re.compile('Category:.*')\n",
    "    while(i < len(titles) and not reg.match(titles[i])):\n",
    "        i = i + 1\n",
    "    return titles[:i]\n",
    "\n"
   ]
  }
 ],
 "metadata": {
  "interpreter": {
   "hash": "aee8b7b246df8f9039afb4144a1f6fd8d2ca17a180786b69acc140d282b71a49"
  },
  "kernelspec": {
   "display_name": "Python 3.9.1 64-bit",
   "language": "python",
   "name": "python3"
  },
  "language_info": {
   "codemirror_mode": {
    "name": "ipython",
    "version": 3
   },
   "file_extension": ".py",
   "mimetype": "text/x-python",
   "name": "python",
   "nbconvert_exporter": "python",
   "pygments_lexer": "ipython3",
   "version": "3.9.1"
  },
  "orig_nbformat": 4
 },
 "nbformat": 4,
 "nbformat_minor": 2
}
