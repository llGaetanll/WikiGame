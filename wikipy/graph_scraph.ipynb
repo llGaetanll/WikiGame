{
 "cells": [
  {
   "cell_type": "code",
   "execution_count": 25,
   "metadata": {},
   "outputs": [],
   "source": [
    "import pandas as pd\n",
    "from bs4 import BeautifulSoup\n",
    "import requests\n",
    "import re\n",
    "import random\n",
    "\n"
   ]
  },
  {
   "cell_type": "code",
   "execution_count": 21,
   "metadata": {},
   "outputs": [],
   "source": [
    "class Page:\n",
    "    \"\"\"\n",
    "    A wikipedia page\n",
    "    \"\"\"\n",
    "    def __init__(self, title):\n",
    "        self.title = title\n",
    "        self.text = None # query to get text\n",
    "        self.links = [None] # manipulate text to get links\n",
    "        self.backlinks = None # access the 'links to this page' in the tools on the sidebar\n",
    "\n",
    "    def __repr__(self):\n",
    "        return self.title\n",
    "\n",
    "    def __str__(self):\n",
    "        return self.title\n",
    "\n",
    "    def __eq__(self, other):\n",
    "        return self.title == other.title\n",
    "\n",
    "    def __hash__(self):\n",
    "        return hash(self.title)\n",
    "    "
   ]
  },
  {
   "cell_type": "code",
   "execution_count": 22,
   "metadata": {},
   "outputs": [],
   "source": [
    "class PageWalker:\n",
    "    \"\"\"\n",
    "    A page walker, not really implemented but will look a lot like this\n",
    "    \"\"\"\n",
    "    def __init__(self, start_page, depth):\n",
    "        self.start_page = start_page\n",
    "        self.pages = [start_page]\n",
    "        \n",
    "\n",
    "    def __iter__(self):\n",
    "        return self\n",
    "\n",
    "    def __next__(self):\n",
    "        if len(self.pages) == 0:\n",
    "            raise StopIteration\n",
    "        page = self.pages.pop()\n",
    "        for link in page.links:\n",
    "            if link not in self.visited:\n",
    "                self.visited.add(link)\n",
    "                self.pages.append(link)\n",
    "        return page"
   ]
  },
  {
   "cell_type": "code",
   "execution_count": 23,
   "metadata": {},
   "outputs": [],
   "source": [
    "def get_linked_pages(url):\n",
    "    reqs = requests.get(url)\n",
    "    soup = BeautifulSoup(reqs.text, 'html.parser')\n",
    "\n",
    "    reg = re.compile('\\/wiki\\/.*')\n",
    "    \n",
    "    titles = []\n",
    "    for link in soup.find_all('a', href=True, title=True):\n",
    "        if reg.match(link[\"href\"]):\n",
    "            titles.append(link[\"title\"].replace(' ','_'))\n",
    "    \n",
    "    titles = refine(titles)\n",
    "    return titles\n",
    "    \n",
    "\n",
    "def refine(titles):\n",
    "    i = 0\n",
    "    reg = re.compile('Category:.*')\n",
    "    while(i < len(titles) and not reg.match(titles[i])):\n",
    "        i = i + 1\n",
    "    return titles[:i]\n",
    "\n",
    "    "
   ]
  },
  {
   "cell_type": "code",
   "execution_count": 24,
   "metadata": {},
   "outputs": [
    {
     "data": {
      "text/html": [
       "<div>\n",
       "<style scoped>\n",
       "    .dataframe tbody tr th:only-of-type {\n",
       "        vertical-align: middle;\n",
       "    }\n",
       "\n",
       "    .dataframe tbody tr th {\n",
       "        vertical-align: top;\n",
       "    }\n",
       "\n",
       "    .dataframe thead th {\n",
       "        text-align: right;\n",
       "    }\n",
       "</style>\n",
       "<table border=\"1\" class=\"dataframe\">\n",
       "  <thead>\n",
       "    <tr style=\"text-align: right;\">\n",
       "      <th></th>\n",
       "      <th>article</th>\n",
       "    </tr>\n",
       "  </thead>\n",
       "  <tbody>\n",
       "    <tr>\n",
       "      <th>0</th>\n",
       "      <td>Main_Page</td>\n",
       "    </tr>\n",
       "    <tr>\n",
       "      <th>1</th>\n",
       "      <td>Special:Search</td>\n",
       "    </tr>\n",
       "    <tr>\n",
       "      <th>2</th>\n",
       "      <td>2022_Russian_invasion_of_Ukraine</td>\n",
       "    </tr>\n",
       "    <tr>\n",
       "      <th>3</th>\n",
       "      <td>Vladimir_Putin</td>\n",
       "    </tr>\n",
       "    <tr>\n",
       "      <th>4</th>\n",
       "      <td>The_Batman_(film)</td>\n",
       "    </tr>\n",
       "    <tr>\n",
       "      <th>...</th>\n",
       "      <td>...</td>\n",
       "    </tr>\n",
       "    <tr>\n",
       "      <th>995</th>\n",
       "      <td>West_Side_Story_(1961_film)</td>\n",
       "    </tr>\n",
       "    <tr>\n",
       "      <th>996</th>\n",
       "      <td>Battle_of_Kharkiv_(2022)</td>\n",
       "    </tr>\n",
       "    <tr>\n",
       "      <th>997</th>\n",
       "      <td>Patrick_Swayze</td>\n",
       "    </tr>\n",
       "    <tr>\n",
       "      <th>998</th>\n",
       "      <td>Sweden</td>\n",
       "    </tr>\n",
       "    <tr>\n",
       "      <th>999</th>\n",
       "      <td>Salman_Khan</td>\n",
       "    </tr>\n",
       "  </tbody>\n",
       "</table>\n",
       "<p>1000 rows × 1 columns</p>\n",
       "</div>"
      ],
      "text/plain": [
       "                              article\n",
       "0                           Main_Page\n",
       "1                      Special:Search\n",
       "2    2022_Russian_invasion_of_Ukraine\n",
       "3                      Vladimir_Putin\n",
       "4                   The_Batman_(film)\n",
       "..                                ...\n",
       "995       West_Side_Story_(1961_film)\n",
       "996          Battle_of_Kharkiv_(2022)\n",
       "997                    Patrick_Swayze\n",
       "998                            Sweden\n",
       "999                       Salman_Khan\n",
       "\n",
       "[1000 rows x 1 columns]"
      ]
     },
     "execution_count": 24,
     "metadata": {},
     "output_type": "execute_result"
    }
   ],
   "source": [
    "articles = pd.read_csv('../top1000.csv', usecols=[\"article\"])"
   ]
  },
  {
   "cell_type": "code",
   "execution_count": 56,
   "metadata": {},
   "outputs": [],
   "source": [
    "def random_walk(n, curr, path):\n",
    "    if n == 0:\n",
    "        path.append(curr)\n",
    "        return path\n",
    "    else:\n",
    "        links = get_linked_pages(\"https://en.wikipedia.org/wiki/\" + curr)\n",
    "        idx = random.randint(1,len(links)) - 1\n",
    "        path.append(curr)\n",
    "        return random_walk(n-1, links[idx], path)\n",
    "    \n",
    "    "
   ]
  },
  {
   "cell_type": "code",
   "execution_count": 58,
   "metadata": {},
   "outputs": [
    {
     "data": {
      "text/plain": [
       "['Kharkiv',\n",
       " 'Pavlo_Lobtsov',\n",
       " 'Ukrainian_Association_of_Football',\n",
       " 'Hryhoriy_Surkis',\n",
       " 'Template:Expand_Ukrainian',\n",
       " 'This_high-risk_template_is_permanently_semi-protected_to_prevent_vandalism']"
      ]
     },
     "execution_count": 58,
     "metadata": {},
     "output_type": "execute_result"
    }
   ],
   "source": [
    "idx = random.randint(0,999)\n",
    "start = articles.at[idx,'article']\n",
    "path = random_walk(5,start,list())\n",
    "path"
   ]
  },
  {
   "cell_type": "code",
   "execution_count": 45,
   "metadata": {},
   "outputs": [],
   "source": []
  },
  {
   "cell_type": "code",
   "execution_count": 53,
   "metadata": {},
   "outputs": [],
   "source": [
    "path"
   ]
  },
  {
   "cell_type": "code",
   "execution_count": null,
   "metadata": {},
   "outputs": [],
   "source": []
  }
 ],
 "metadata": {
  "interpreter": {
   "hash": "aee8b7b246df8f9039afb4144a1f6fd8d2ca17a180786b69acc140d282b71a49"
  },
  "kernelspec": {
   "display_name": "Python 3.9.1 64-bit",
   "language": "python",
   "name": "python3"
  },
  "language_info": {
   "codemirror_mode": {
    "name": "ipython",
    "version": 3
   },
   "file_extension": ".py",
   "mimetype": "text/x-python",
   "name": "python",
   "nbconvert_exporter": "python",
   "pygments_lexer": "ipython3",
   "version": "3.9.1"
  },
  "orig_nbformat": 4
 },
 "nbformat": 4,
 "nbformat_minor": 2
}
