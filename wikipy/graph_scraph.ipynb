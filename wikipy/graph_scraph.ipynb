{
 "cells": [
  {
   "cell_type": "code",
   "execution_count": null,
   "metadata": {},
   "outputs": [],
   "source": [
    "class Page:\n",
    "    \"\"\"\n",
    "    A wikipedia page\n",
    "    \"\"\"\n",
    "    def __init__(self, title):\n",
    "        self.title = title\n",
    "        self.text = None # query to get text\n",
    "        self.links = [None] # manipulate text to get links\n",
    "        self.backlinks = None # access the 'links to this page' in the tools on the sidebar\n",
    "\n",
    "    def __repr__(self):\n",
    "        return self.title\n",
    "\n",
    "    def __str__(self):\n",
    "        return self.title\n",
    "\n",
    "    def __eq__(self, other):\n",
    "        return self.title == other.title\n",
    "\n",
    "    def __hash__(self):\n",
    "        return hash(self.title)\n",
    "    "
   ]
  },
  {
   "cell_type": "code",
   "execution_count": null,
   "metadata": {},
   "outputs": [],
   "source": [
    "class PageWalker:\n",
    "    \"\"\"\n",
    "    A page walker, not really implemented but will look a lot like this\n",
    "    \"\"\"\n",
    "    def __init__(self, start_page, depth):\n",
    "        self.start_page = start_page\n",
    "        self.pages = [start_page]\n",
    "        \n",
    "\n",
    "    def __iter__(self):\n",
    "        return self\n",
    "\n",
    "    def __next__(self):\n",
    "        if len(self.pages) == 0:\n",
    "            raise StopIteration\n",
    "        page = self.pages.pop()\n",
    "        for link in page.links:\n",
    "            if link not in self.visited:\n",
    "                self.visited.add(link)\n",
    "                self.pages.append(link)\n",
    "        return page"
   ]
  }
 ],
 "metadata": {
  "language_info": {
   "name": "python"
  },
  "orig_nbformat": 4
 },
 "nbformat": 4,
 "nbformat_minor": 2
}
